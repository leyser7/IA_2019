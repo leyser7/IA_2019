{
  "cells": [
    {
      "metadata": {
        "trusted": true
      },
      "cell_type": "code",
      "source": "!nvcc -version",
      "execution_count": 1,
      "outputs": [
        {
          "output_type": "stream",
          "text": "/bin/sh: 1: nvcc: not found\n",
          "name": "stdout"
        }
      ]
    },
    {
      "metadata": {
        "trusted": true
      },
      "cell_type": "code",
      "source": "!g++ --version",
      "execution_count": 3,
      "outputs": [
        {
          "output_type": "stream",
          "text": "g++ (Ubuntu 5.5.0-12ubuntu1~16.04) 5.5.0 20171010\r\nCopyright (C) 2015 Free Software Foundation, Inc.\r\nThis is free software; see the source for copying conditions.  There is NO\r\nwarranty; not even for MERCHANTABILITY or FITNESS FOR A PARTICULAR PURPOSE.\r\n\r\n",
          "name": "stdout"
        }
      ]
    },
    {
      "metadata": {
        "trusted": true
      },
      "cell_type": "code",
      "source": "!g++ test.cpp -o test",
      "execution_count": 5,
      "outputs": []
    },
    {
      "metadata": {
        "trusted": true
      },
      "cell_type": "code",
      "source": "!ls",
      "execution_count": 7,
      "outputs": [
        {
          "output_type": "stream",
          "text": "220px-Lenna_(test_image).png\t\t\t   test\t\ttest.ipynb\r\ncuda-repo-ubuntu1604-9-2-local_9.2.88-1_amd64.deb  test0.ipynb\ttest.png\r\nREADME.md\t\t\t\t\t   test1.ipynb\r\nsrc\t\t\t\t\t\t   test.cpp\r\n",
          "name": "stdout"
        }
      ]
    },
    {
      "metadata": {
        "trusted": true
      },
      "cell_type": "code",
      "source": "!chmod 777 test",
      "execution_count": 16,
      "outputs": []
    },
    {
      "metadata": {
        "trusted": true
      },
      "cell_type": "code",
      "source": "!ls -la ",
      "execution_count": 17,
      "outputs": [
        {
          "output_type": "stream",
          "text": "total 8\ndrwxr-xr-x 2 nbuser nbuser         0 Jan  1  1970 .\ndrwxr-xr-x 1 nbuser nbuser      4096 Aug 12 23:46 ..\n-rw-r--r-- 1 nbuser nbuser     88235 Aug  5 23:12 220px-Lenna_(test_image).png\n-rw-r--r-- 1 nbuser nbuser 211434925 Aug 12  2019 cuda-repo-ubuntu1604-9-2-local_9.2.88-1_amd64.deb\ndrwxr-xr-x 2 nbuser nbuser         0 Aug  5 23:10 .ipynb_checkpoints\n-rw-r--r-- 1 nbuser nbuser         0 Aug  2 15:08 README.md\ndrwxr-xr-x 2 nbuser nbuser         0 Aug 12 23:47 src\n-rw-r--r-- 1 nbuser nbuser      9048 Aug 12 23:54 test\n-rw-r--r-- 1 nbuser nbuser     14625 Aug 12 23:55 test0.ipynb\n-rw-r--r-- 1 nbuser nbuser      4141 Aug 12 23:56 test1.ipynb\n-rw-r--r-- 1 nbuser nbuser        83 Aug 12 23:53 test.cpp\n-rw-r--r-- 1 nbuser nbuser      4095 Aug  5 23:13 test.ipynb\n-rw-r--r-- 1 nbuser nbuser    160156 Aug  5 23:07 test.png\n",
          "name": "stdout"
        }
      ]
    },
    {
      "metadata": {
        "trusted": true
      },
      "cell_type": "code",
      "source": "!whoiam",
      "execution_count": 13,
      "outputs": [
        {
          "output_type": "stream",
          "text": "/bin/sh: 1: whoiam: not found\r\n",
          "name": "stdout"
        }
      ]
    },
    {
      "metadata": {
        "trusted": true
      },
      "cell_type": "code",
      "source": "!whoami\n",
      "execution_count": 14,
      "outputs": [
        {
          "output_type": "stream",
          "text": "nbuser\r\n",
          "name": "stdout"
        }
      ]
    },
    {
      "metadata": {
        "trusted": true
      },
      "cell_type": "code",
      "source": "!pip install git+git://github.com/xapharius/cppmagic.git",
      "execution_count": 19,
      "outputs": [
        {
          "output_type": "stream",
          "text": "Collecting git+git://github.com/xapharius/cppmagic.git\n  Cloning git://github.com/xapharius/cppmagic.git to /tmp/pip-req-build-0z_mmbga\n  Running command git clone -q git://github.com/xapharius/cppmagic.git /tmp/pip-req-build-0z_mmbga\nBuilding wheels for collected packages: CppMagic\n  Building wheel for CppMagic (setup.py) ... \u001b[?25ldone\n\u001b[?25h  Stored in directory: /tmp/pip-ephem-wheel-cache-i5bi1smi/wheels/85/44/6f/2cb3ffeb1146967a8bfca9efe7868732896517a7c5c1baf9dc\nSuccessfully built CppMagic\nInstalling collected packages: CppMagic\nSuccessfully installed CppMagic-0.1.0\n\u001b[33mWARNING: You are using pip version 19.1.1, however version 19.2.2 is available.\nYou should consider upgrading via the 'pip install --upgrade pip' command.\u001b[0m\n",
          "name": "stdout"
        }
      ]
    },
    {
      "metadata": {
        "trusted": true
      },
      "cell_type": "code",
      "source": "%%cpp\n\n#include <stdio.h>\n#include <test.h>\n\nint main(void) {\n   printf(\"Hello World\");\n   return 0;\n}",
      "execution_count": 23,
      "outputs": [
        {
          "output_type": "execute_result",
          "execution_count": 23,
          "data": {
            "text/plain": "'Hello World'"
          },
          "metadata": {}
        }
      ]
    },
    {
      "metadata": {
        "trusted": true
      },
      "cell_type": "code",
      "source": "",
      "execution_count": null,
      "outputs": []
    }
  ],
  "metadata": {
    "kernelspec": {
      "name": "python36",
      "display_name": "Python 3.6",
      "language": "python"
    },
    "language_info": {
      "mimetype": "text/x-python",
      "nbconvert_exporter": "python",
      "name": "python",
      "pygments_lexer": "ipython3",
      "version": "3.6.6",
      "file_extension": ".py",
      "codemirror_mode": {
        "version": 3,
        "name": "ipython"
      }
    }
  },
  "nbformat": 4,
  "nbformat_minor": 2
}