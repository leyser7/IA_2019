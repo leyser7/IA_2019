{
  "cells": [
    {
      "metadata": {
        "trusted": true
      },
      "cell_type": "code",
      "source": "import numpy as np",
      "execution_count": 2,
      "outputs": []
    },
    {
      "metadata": {
        "trusted": true
      },
      "cell_type": "code",
      "source": "print (np.__version__)",
      "execution_count": 3,
      "outputs": [
        {
          "output_type": "stream",
          "text": "1.16.2\n",
          "name": "stdout"
        }
      ]
    },
    {
      "metadata": {
        "trusted": true
      },
      "cell_type": "code",
      "source": "\nimport numpy as np\nimport cv2\n\n# Load an color image in grayscale\nimg = cv2.imread('220px-Lenna_(test_image).png',)\n\ncv2.imshow('image',img)\ncv2.waitKey(0)\ncv2.destroyAllWindows()\n",
      "execution_count": null,
      "outputs": []
    },
    {
      "metadata": {
        "trusted": true
      },
      "cell_type": "code",
      "source": "! pip install opencv-python",
      "execution_count": 4,
      "outputs": [
        {
          "output_type": "stream",
          "text": "Collecting opencv-python\n\u001b[?25l  Downloading https://files.pythonhosted.org/packages/7b/d2/a2dbf83d4553ca6b3701d91d75e42fe50aea97acdc00652dca515749fb5d/opencv_python-4.1.0.25-cp36-cp36m-manylinux1_x86_64.whl (26.6MB)\n\u001b[K     |████████████████████████████████| 26.6MB 12kB/s  eta 0:00:01    |█▍                              | 1.1MB 2.3MB/s eta 0:00:12     |██▋                             | 2.1MB 2.3MB/s eta 0:00:11     |████▋                           | 3.9MB 2.3MB/s eta 0:00:10     |██████████▏                     | 8.5MB 668kB/s eta 0:00:28     |███████████▊                    | 9.8MB 1.6MB/s eta 0:00:11     |██████████████████████████▏     | 21.7MB 2.5MB/s eta 0:00:02��██████████████████████████▌ | 25.4MB 2.1MB/s eta 0:00:01\n\u001b[?25hRequirement already satisfied: numpy>=1.11.3 in /home/nbuser/anaconda3_501/lib/python3.6/site-packages (from opencv-python) (1.16.2)\nInstalling collected packages: opencv-python\nSuccessfully installed opencv-python-4.1.0.25\n\u001b[33mWARNING: You are using pip version 19.1.1, however version 19.2.1 is available.\nYou should consider upgrading via the 'pip install --upgrade pip' command.\u001b[0m\n",
          "name": "stdout"
        }
      ]
    },
    {
      "metadata": {
        "trusted": true
      },
      "cell_type": "code",
      "source": "!pwd",
      "execution_count": 8,
      "outputs": [
        {
          "output_type": "stream",
          "text": "/home/nbuser/library\r\n",
          "name": "stdout"
        }
      ]
    },
    {
      "metadata": {
        "trusted": true
      },
      "cell_type": "code",
      "source": "ls",
      "execution_count": 9,
      "outputs": [
        {
          "output_type": "stream",
          "text": "README.md  test.ipynb  test.png\r\n",
          "name": "stdout"
        }
      ]
    },
    {
      "metadata": {
        "trusted": true
      },
      "cell_type": "code",
      "source": "img",
      "execution_count": 11,
      "outputs": []
    },
    {
      "metadata": {
        "trusted": true
      },
      "cell_type": "code",
      "source": "",
      "execution_count": null,
      "outputs": []
    }
  ],
  "metadata": {
    "kernelspec": {
      "name": "python36",
      "display_name": "Python 3.6",
      "language": "python"
    },
    "language_info": {
      "mimetype": "text/x-python",
      "nbconvert_exporter": "python",
      "name": "python",
      "pygments_lexer": "ipython3",
      "version": "3.6.6",
      "file_extension": ".py",
      "codemirror_mode": {
        "version": 3,
        "name": "ipython"
      }
    }
  },
  "nbformat": 4,
  "nbformat_minor": 2
}