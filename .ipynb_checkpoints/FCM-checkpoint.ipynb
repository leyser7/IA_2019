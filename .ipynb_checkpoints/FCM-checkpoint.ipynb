{
  "cells": [
    {
      "metadata": {
        "collapsed": true
      },
      "cell_type": "markdown",
      "source": "# Fuzzy c-means clustering algorithm"
    },
    {
      "metadata": {},
      "cell_type": "markdown",
      "source": "Let  X = {x1, x2, x3 ..., xn} be the set of data points and V = {v1, v2, v3 ..., vc} be the set of centers."
    },
    {
      "metadata": {},
      "cell_type": "markdown",
      "source": "1. Randomly select ‘c’ cluster centers"
    },
    {
      "metadata": {},
      "cell_type": "markdown",
      "source": "2. Calculate the fuzzy membership 'µij' using:"
    },
    {
      "metadata": {},
      "cell_type": "markdown",
      "source": "\\begin{equation*}\nU_{ij} = \\frac{1}{\\sum_{k=1}^{c} \\frac{d_{ij}}{d_{ik}}^{2/m-1}}\n\\end{equation*}"
    },
    {
      "metadata": {},
      "cell_type": "markdown",
      "source": "3. Compute the fuzzy centers 'vj' using:"
    },
    {
      "metadata": {},
      "cell_type": "markdown",
      "source": "\\begin{equation*}\nV_{j} = \\frac{\\sum_{i=1}^{n} U_{ij}^m * X_i}{\\sum_{i=1}^{n} U_{ij}^m}\n\\end{equation*}"
    },
    {
      "metadata": {},
      "cell_type": "markdown",
      "source": "4.   Repeat step 2) and 3) until the minimum 'J' value is achieved or ||U(k+1) - U(k)|| < β.                           \n where,       \n                              ‘k’ is the iteration step. \n                              ‘β’ is the termination criterion between [0, 1].\n                              ‘U = (µij)n*c’ is the fuzzy membership matrix.\n                              ‘J’ is the objective function."
    },
    {
      "metadata": {
        "trusted": true
      },
      "cell_type": "code",
      "source": "!pip install -U scikit-fuzzy\nimport skfuzzy as fuzz\nimport pandas as pd\nimport numpy as np\nimport matplotlib.pyplot as plt\nimport seaborn as sns\n\n%matplotlib inline",
      "execution_count": 8,
      "outputs": [
        {
          "output_type": "stream",
          "text": "Collecting scikit-fuzzy\n\u001b[?25l  Downloading https://files.pythonhosted.org/packages/e5/30/aaf5bfdcc6b7362d753ae811ca131ecbc434c4ba665a581a7ad7b2288d45/scikit-fuzzy-0.4.1.tar.gz (993kB)\n\u001b[K     |████████████████████████████████| 1.0MB 3.8MB/s eta 0:00:01\n\u001b[?25hRequirement already satisfied, skipping upgrade: numpy>=1.6.0 in /home/nbuser/anaconda3_420/lib/python3.5/site-packages (from scikit-fuzzy) (1.17.0)\nRequirement already satisfied, skipping upgrade: scipy>=0.9.0 in /home/nbuser/anaconda3_420/lib/python3.5/site-packages (from scikit-fuzzy) (1.1.0)\nRequirement already satisfied, skipping upgrade: networkx>=1.9.0 in /home/nbuser/anaconda3_420/lib/python3.5/site-packages (from scikit-fuzzy) (2.3)\nRequirement already satisfied, skipping upgrade: decorator>=4.3.0 in /home/nbuser/anaconda3_420/lib/python3.5/site-packages (from networkx>=1.9.0->scikit-fuzzy) (4.4.0)\nBuilding wheels for collected packages: scikit-fuzzy\n  Building wheel for scikit-fuzzy (setup.py) ... \u001b[?25ldone\n\u001b[?25h  Created wheel for scikit-fuzzy: filename=scikit_fuzzy-0.4.1-cp35-none-any.whl size=893870 sha256=644f19cec3ce7b54da86c56dcdfc5bfeb292a18bef3f36c7fe1fc7e8fa95a80d\n  Stored in directory: /home/nbuser/.cache/pip/wheels/9d/f9/0e/a8de3e98e64bbf828f5e762936ff5a40e72331dbe663470711\nSuccessfully built scikit-fuzzy\nInstalling collected packages: scikit-fuzzy\nSuccessfully installed scikit-fuzzy-0.4.1\n\u001b[33mWARNING: You are using pip version 19.2.2, however version 19.3.1 is available.\nYou should consider upgrading via the 'pip install --upgrade pip' command.\u001b[0m\n",
          "name": "stdout"
        }
      ]
    },
    {
      "metadata": {
        "trusted": true
      },
      "cell_type": "code",
      "source": "## Configure some general styling\nsns.set_style(\"white\")\nplt.rcParams['font.size'] = 12\nplt.rcParams['axes.labelsize'] = 20\nplt.rcParams['axes.labelweight'] = 'bold'\nplt.rcParams['axes.titlesize'] = 20\nplt.rcParams['xtick.labelsize'] = 15\nplt.rcParams['ytick.labelsize'] = 15\nplt.rcParams['legend.fontsize'] = 15\nplt.rcParams['figure.titlesize'] = 20\nplt.rcParams['figure.figsize'] = (8,7)",
      "execution_count": null,
      "outputs": []
    },
    {
      "metadata": {
        "trusted": true
      },
      "cell_type": "code",
      "source": "# Generate test data\nnp.random.seed(42)  # Set seed for reproducibility\nxpts = np.zeros(1)\nypts = np.zeros(1)\nlabels = np.zeros(1)\nfor i, ((xmu, ymu), (xsigma, ysigma)) in enumerate(zip(centers, sigmas)):\n    xpts = np.hstack((xpts, np.random.standard_normal(200) * xsigma + xmu))\n    ypts = np.hstack((ypts, np.random.standard_normal(200) * ysigma + ymu))\n    labels = np.hstack((labels, np.ones(200) * i))",
      "execution_count": 9,
      "outputs": [
        {
          "output_type": "error",
          "ename": "NameError",
          "evalue": "name 'centers' is not defined",
          "traceback": [
            "\u001b[0;31m---------------------------------------------------------------------------\u001b[0m",
            "\u001b[0;31mNameError\u001b[0m                                 Traceback (most recent call last)",
            "\u001b[0;32m<ipython-input-9-2e67e4a818c7>\u001b[0m in \u001b[0;36m<module>\u001b[0;34m()\u001b[0m\n\u001b[1;32m      4\u001b[0m \u001b[0mypts\u001b[0m \u001b[0;34m=\u001b[0m \u001b[0mnp\u001b[0m\u001b[0;34m.\u001b[0m\u001b[0mzeros\u001b[0m\u001b[0;34m(\u001b[0m\u001b[0;36m1\u001b[0m\u001b[0;34m)\u001b[0m\u001b[0;34m\u001b[0m\u001b[0m\n\u001b[1;32m      5\u001b[0m \u001b[0mlabels\u001b[0m \u001b[0;34m=\u001b[0m \u001b[0mnp\u001b[0m\u001b[0;34m.\u001b[0m\u001b[0mzeros\u001b[0m\u001b[0;34m(\u001b[0m\u001b[0;36m1\u001b[0m\u001b[0;34m)\u001b[0m\u001b[0;34m\u001b[0m\u001b[0m\n\u001b[0;32m----> 6\u001b[0;31m \u001b[0;32mfor\u001b[0m \u001b[0mi\u001b[0m\u001b[0;34m,\u001b[0m \u001b[0;34m(\u001b[0m\u001b[0;34m(\u001b[0m\u001b[0mxmu\u001b[0m\u001b[0;34m,\u001b[0m \u001b[0mymu\u001b[0m\u001b[0;34m)\u001b[0m\u001b[0;34m,\u001b[0m \u001b[0;34m(\u001b[0m\u001b[0mxsigma\u001b[0m\u001b[0;34m,\u001b[0m \u001b[0mysigma\u001b[0m\u001b[0;34m)\u001b[0m\u001b[0;34m)\u001b[0m \u001b[0;32min\u001b[0m \u001b[0menumerate\u001b[0m\u001b[0;34m(\u001b[0m\u001b[0mzip\u001b[0m\u001b[0;34m(\u001b[0m\u001b[0mcenters\u001b[0m\u001b[0;34m,\u001b[0m \u001b[0msigmas\u001b[0m\u001b[0;34m)\u001b[0m\u001b[0;34m)\u001b[0m\u001b[0;34m:\u001b[0m\u001b[0;34m\u001b[0m\u001b[0m\n\u001b[0m\u001b[1;32m      7\u001b[0m     \u001b[0mxpts\u001b[0m \u001b[0;34m=\u001b[0m \u001b[0mnp\u001b[0m\u001b[0;34m.\u001b[0m\u001b[0mhstack\u001b[0m\u001b[0;34m(\u001b[0m\u001b[0;34m(\u001b[0m\u001b[0mxpts\u001b[0m\u001b[0;34m,\u001b[0m \u001b[0mnp\u001b[0m\u001b[0;34m.\u001b[0m\u001b[0mrandom\u001b[0m\u001b[0;34m.\u001b[0m\u001b[0mstandard_normal\u001b[0m\u001b[0;34m(\u001b[0m\u001b[0;36m200\u001b[0m\u001b[0;34m)\u001b[0m \u001b[0;34m*\u001b[0m \u001b[0mxsigma\u001b[0m \u001b[0;34m+\u001b[0m \u001b[0mxmu\u001b[0m\u001b[0;34m)\u001b[0m\u001b[0;34m)\u001b[0m\u001b[0;34m\u001b[0m\u001b[0m\n\u001b[1;32m      8\u001b[0m     \u001b[0mypts\u001b[0m \u001b[0;34m=\u001b[0m \u001b[0mnp\u001b[0m\u001b[0;34m.\u001b[0m\u001b[0mhstack\u001b[0m\u001b[0;34m(\u001b[0m\u001b[0;34m(\u001b[0m\u001b[0mypts\u001b[0m\u001b[0;34m,\u001b[0m \u001b[0mnp\u001b[0m\u001b[0;34m.\u001b[0m\u001b[0mrandom\u001b[0m\u001b[0;34m.\u001b[0m\u001b[0mstandard_normal\u001b[0m\u001b[0;34m(\u001b[0m\u001b[0;36m200\u001b[0m\u001b[0;34m)\u001b[0m \u001b[0;34m*\u001b[0m \u001b[0mysigma\u001b[0m \u001b[0;34m+\u001b[0m \u001b[0mymu\u001b[0m\u001b[0;34m)\u001b[0m\u001b[0;34m)\u001b[0m\u001b[0;34m\u001b[0m\u001b[0m\n",
            "\u001b[0;31mNameError\u001b[0m: name 'centers' is not defined"
          ]
        }
      ]
    },
    {
      "metadata": {
        "trusted": true
      },
      "cell_type": "code",
      "source": "",
      "execution_count": null,
      "outputs": []
    }
  ],
  "metadata": {
    "kernelspec": {
      "name": "python3",
      "display_name": "Python 3",
      "language": "python"
    },
    "language_info": {
      "mimetype": "text/x-python",
      "nbconvert_exporter": "python",
      "name": "python",
      "file_extension": ".py",
      "version": "3.5.4",
      "pygments_lexer": "ipython3",
      "codemirror_mode": {
        "version": 3,
        "name": "ipython"
      }
    }
  },
  "nbformat": 4,
  "nbformat_minor": 2
}