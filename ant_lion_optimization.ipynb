{
  "cells": [
    {
      "metadata": {},
      "cell_type": "markdown",
      "source": "# Ant lion optimizer"
    },
    {
      "metadata": {},
      "cell_type": "markdown",
      "source": "The ALO algorithm mimics the hunting mechanism of antlions in nature"
    },
    {
      "metadata": {},
      "cell_type": "markdown",
      "source": "1. Random walk of ants\n2. Building traps \n3. Entrapment of ants in traps \n4. Catching preys \n5. Re-building traps are implemented"
    },
    {
      "metadata": {
        "trusted": true
      },
      "cell_type": "code",
      "source": "from __future__ import division\nimport numpy as np\nimport random\nimport matplotlib as mpl\nimport matplotlib.pyplot as plt\nimport time",
      "execution_count": 1,
      "outputs": []
    },
    {
      "metadata": {
        "trusted": true
      },
      "cell_type": "code",
      "source": "class ALO(object):\n    def __init__(self, N, Max_iter, lb, ub, dim, Fobj):\n        \"\"\"\n        N：Numero de hormigas\n        Max_iter：numero de iter\n        lb, ub ：搜索范围 -> 变量取值范围\n        dim：解的维度\n        Fobj：价值函数\n        \"\"\"\n        self.N = N\n        self.Max_iter = Max_iter\n        self.lb = np.array(lb)\n        self.ub = np.array(ub)\n        self.dim = dim\n        self.Fobj = Fobj\n\n    # 初始化 ant 和 antlion 位置\n    def Initialization(self):\n        x = [[0 for col in range(self.dim)] for row in range(self.N)]\n        for i in range(self.N):\n            for j in range(self.dim):\n                x[i][j] = random.random() * (self.ub[j]-self.lb[j]) + self.lb[j]\n        return x\n\n    # 轮盘赌\n    def RouletteWheelSelection(self, weights):\n        accumulation = [0 for col in range(self.N)]\n        for i in range(self.N):\n            accumulation[-1] = 0\n            accumulation[i] += accumulation[i-1] + weights[i]\n        p = random.random() * accumulation[-1]\n        for j in range(self.N):\n            if accumulation[j] > p:\n                index = j\n                break\n        return index\n\n    # 随机游走\n    def Random_walk_around_antlion(self, antlion, current_iter):\n        if current_iter >= self.Max_iter * 0.95:\n            I = 1 + 10**6 * (current_iter/self.Max_iter)\n        elif current_iter >= self.Max_iter * 0.9:\n            I = 1 + 10**5 * (current_iter/self.Max_iter)\n        elif current_iter >= self.Max_iter * 3/4:\n            I = 1 + 10**4 * (current_iter/self.Max_iter)\n        elif current_iter >= self.Max_iter * 0.5:\n            I = 1 + 10**3 * (current_iter/self.Max_iter)\n        else:\n            I = 1 + 10**2 * (current_iter/self.Max_iter)\n        # 公式 (2.10)、(2.11)\n        lb, ub = self.lb/I, self.ub/I\n        # 公式 (2.8)\n        if random.random() < 0.5:\n            lb = lb + antlion\n        else:\n            lb = -lb + antlion\n        # 公式 (2.9)\n        if random.random() >= 0.5:\n            ub = ub + antlion\n        else:\n            ub = -ub + antlion\n        # create n random walks and normalize accroding to lb and ub\n        RWs = [[0 for col in range(self.dim)] for row in range(self.Max_iter + 1)]\n        for dim in range(self.dim):\n            # 公式 (2.2)\n            X1 = [0]\n            for i in range(self.Max_iter):\n                X1.append(1) if random.random() > 0.5 else X1.append(-1)\n            # X：公式 (2.1)\n            X = [0 for col in range(self.Max_iter + 1)]\n            for j in range(self.Max_iter + 1):\n                if j == 0:\n                    pass\n                else:\n                    X[j] = X[j-1] + X1[j]\n            a, b = min(X), max(X)\n            c, d = lb[dim], ub[dim]\n            aa = [a for ii in range(self.Max_iter + 1)]\n            # 公式 (2.7)\n            X_norm = [(x-y) * (d-c)/(b-a) + c for x, y in zip(X, aa)]\n            for t in range(len(X_norm)):\n                RWs[t][dim] = X_norm[t]\n        return RWs\n\n    # 绘制迭代-误差图\n    def Ploterro(self, Current_iter, Convergence_curve):\n        #mpl.rcParams['font.sans-serif'] = ['Courier New']\n        mpl.rcParams['axes.unicode_minus'] = False\n        fig = plt.figure(figsize=(10, 6))\n        ax = fig.add_subplot(111)\n        x = [i for i in range(Current_iter)]\n        plt.plot(x, Convergence_curve, 'r-', linewidth=1.5, markersize=5)\n        ax.set_xlabel(u'Iter', fontsize=18)\n        ax.set_ylabel(u'Best score', fontsize=18)\n        plt.xticks(fontsize=18)\n        plt.yticks(fontsize=18)\n        plt.xlim(0, )\n        plt.grid(True)\n        plt.title(\"Func = (x[0]-1) ** 2 + (x[1] + 1) ** 2 + x[2] ** 2 + x[3] ** 2\")\n        plt.show()\n\n    def Run(self):\n        #  ant  and antlion \n        antlion_position = self.Initialization()\n        ant_position = self.Initialization()\n\n        Sorted_antlions = [[0 for col in range(self.dim)] for row in range(self.N)]\n\n        Elite_antlion_position = [0 for col in range(self.dim)]\n        Elite_antlion_fitness = float('inf')\n        Convergence_curve = [0 for col in range(self.Max_iter)]\n        antlions_fitness = [0 for col in range(self.N)]\n        ants_fitness = [0 for col in range(self.N)]\n\n        \n        for i in range(self.N):\n            antlions_fitness[i] = self.Fobj(antlion_position[i])\n        sorted_antlion_fitness = sorted(antlions_fitness)\n        sorted_indexes = np.argsort(antlions_fitness)\n        for newindex in range(self.N):\n            Sorted_antlions[newindex] = antlion_position[sorted_indexes[newindex]]\n        Elite_antlion_position = Sorted_antlions[0]\n        Elite_antlion_fitness = sorted_antlion_fitness[0]\n\n     \n        for Current_iter in range(self.Max_iter):\n            print(\"Iter = \" + str(Current_iter))\n            for i in range(self.N):\n                Rolette_index = self.RouletteWheelSelection([1./item for item in sorted_antlion_fitness])\n                if Rolette_index == -1:\n                    Rolette_index = 1\n                RA = self.Random_walk_around_antlion(Sorted_antlions[Rolette_index], Current_iter)\n                RE = self.Random_walk_around_antlion(Elite_antlion_position, Current_iter)\n                # 公式 (2.13)\n                ant_position[i] = [(x + y)/2 for x, y in zip(RA[Current_iter], RE[Current_iter])]\n            for j in range(self.N):\n                for k in range(self.dim):\n                    if ant_position[j][k] > self.ub[k]:\n                        ant_position[j][k] = self.ub[k]\n                    elif ant_position[j][k] < self.lb[k]:\n                        ant_position[j][k] = self.lb[k]\n                    else:\n                        pass\n                ants_fitness[j] = self.Fobj(ant_position[j])\n            double_population = []\n            double_population.extend(Sorted_antlions)\n            double_population.extend(ant_position)\n            double_fitness = []\n            double_fitness.extend(sorted_antlion_fitness)\n            double_fitness.extend(ants_fitness)\n\n            double_fitness_sorted = sorted(double_fitness)\n            I = np.argsort(double_fitness)\n            double_sorted_population = []\n            for index in I:\n                double_sorted_population.append(double_population[index])\n            antlions_fitness = double_fitness_sorted[0:self.N]\n            Sorted_antlions = double_sorted_population[0:self.N]\n            if antlions_fitness[0] <= Elite_antlion_fitness:\n                Elite_antlion_fitness = antlions_fitness[0]\n                Elite_antlion_position = Sorted_antlions[0]\n            Sorted_antlions[0] = Elite_antlion_position\n            antlions_fitness[0] = Elite_antlion_fitness\n            Convergence_curve[Current_iter] = Elite_antlion_fitness\n            Current_iter += 1\n\n            if Elite_antlion_fitness <= 0.001:\n                break\n        print(\"Best_score = \" + str(Elite_antlion_fitness))\n        print(\"Best_pos = \" + str(Elite_antlion_position))\n        self.Ploterro(Current_iter, Convergence_curve[0:Current_iter])\n        return Elite_antlion_fitness, Elite_antlion_position, Convergence_curve[0:Current_iter]",
      "execution_count": null,
      "outputs": []
    },
    {
      "metadata": {
        "trusted": true
      },
      "cell_type": "code",
      "source": "def Fobj(x):\n    cost = (x[0] - 1) ** 2 + (x[1] + 1) ** 2 + x[2] ** 2 + x[3] ** 2\n    return cost\nstarttime = time.time()\na = ALO(10, 80, [-1, -1, -1, -1], [1, 1, 1, 1], 4, Fobj)\nBest_score, Best_pos, Cg_curve = a.Run()\nendtime = time.time()\nprint(\"Runtime = \" + str(endtime - starttime))",
      "execution_count": null,
      "outputs": []
    },
    {
      "metadata": {
        "trusted": true
      },
      "cell_type": "code",
      "source": "",
      "execution_count": null,
      "outputs": []
    }
  ],
  "metadata": {
    "kernelspec": {
      "name": "python3",
      "display_name": "Python 3",
      "language": "python"
    },
    "language_info": {
      "mimetype": "text/x-python",
      "nbconvert_exporter": "python",
      "name": "python",
      "file_extension": ".py",
      "version": "3.5.4",
      "pygments_lexer": "ipython3",
      "codemirror_mode": {
        "version": 3,
        "name": "ipython"
      }
    }
  },
  "nbformat": 4,
  "nbformat_minor": 1
}